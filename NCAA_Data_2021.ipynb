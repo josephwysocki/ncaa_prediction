{
 "cells": [
  {
   "cell_type": "markdown",
   "metadata": {},
   "source": [
    "# Predicting the Outcomes of NCAA Basketball Games"
   ]
  },
  {
   "cell_type": "markdown",
   "metadata": {},
   "source": [
    "### Introduction  \n",
    "The objective of our project is to build a model that can predict the outcome of any matchup between NCAA Divison 1 men's basketball teams. We hypothesize that the amount of points a team scores in a game is dependent on the quality of their opponents defense. The worse their opponents defense, the more points they will score. Pretty straight forward."
   ]
  },
  {
   "cell_type": "markdown",
   "metadata": {},
   "source": [
    "### Imports"
   ]
  },
  {
   "cell_type": "code",
   "execution_count": 4,
   "metadata": {},
   "outputs": [],
   "source": [
    "import pandas as pd\n",
    "import numpy as np"
   ]
  },
  {
   "cell_type": "markdown",
   "metadata": {},
   "source": [
    "### **Scraping Data**\n",
    "\n",
    "For this project, all of our data will come from TeamRankings.com - a website that supplies statistics for most major American sports. "
   ]
  },
  {
   "cell_type": "markdown",
   "metadata": {},
   "source": [
    "### What Data Do We Need?\n",
    "\n",
    "We know what website we are going to scrape from, but now we need to make sure they actually have that information. For our model, we have a dependent variable - points scored - and we have independent variables - metrics that measure the quality of a teams defense.\n",
    "\n",
    "Without expanding too much into their definitions, the metrics we will use for measuring quality of defense are:\n",
    "\n",
    "1. Defensive Efficiency\n",
    "2. Opponent Floor Percentage\n",
    "3. Opponent Effective Field Goal Percentage\n",
    "4. Opponent True Shooting Percentage\n",
    "\n",
    "These four metrics are our independent variables. \n",
    "\n",
    "So, when scraping the website, we need to get the four metrics listed above, along with the game outcomes for every game played for every single team. "
   ]
  },
  {
   "cell_type": "markdown",
   "metadata": {},
   "source": [
    "### Where Can We Get It?\n",
    "\n",
    "This is where our web scraping comes in. Looking at TeamRankings.com, we should be able to pull this information together rather quickly.\n",
    "\n",
    "First, we need to get the score of each teams games. Browsing the website, we notice that each team has their own webpage with this information nicely displayed. Below is a link to an example page for the Oakland University Golden Grizzlies (OU):\n",
    "\n",
    "> [Oakland Golden Grizzlies](https://www.teamrankings.com/ncaa-basketball/team/Oakland-Golden-Grizzlies/game-log)\n",
    "\n",
    "This is great! The table gives us the opponent and the score for each game - just what we need. Now, we need to analyze the URL to see if it is set up in a way that we can easily scrape from. Let's look at two teams - OU and UVA - and see how each of their URLs are set up:\n",
    "\n",
    "> https://www.teamrankings.com/ncaa-basketball/team/Oakland-Golden-Grizzlies/game-log\n",
    "\n",
    ">https://www.teamrankings.com/ncaa-basketball/team/Virginia-Cavaliers/game-log\n",
    "\n",
    "Some good news! It appears from our quick research that the URL for each teams schedule is the exact same - only differentiated by the schools name and mascot name typed out with a dash between each word. This will allow us to write some code to quickly get to each teams website. We will return to that in a minute.\n",
    "\n",
    "The next bit of information we need is the defensive metrics - our independent variables. TeamRankings has these readily supplied on their website in table format so we can quickly scrape them without any issue. Given that we are only looking at four unique metrics, I won't bother trying to create a loop later to quicken this process. "
   ]
  },
  {
   "cell_type": "markdown",
   "metadata": {},
   "source": [
    "### Getting a List of all NCAA D1 Teams"
   ]
  },
  {
   "cell_type": "code",
   "execution_count": 5,
   "metadata": {},
   "outputs": [
    {
     "name": "stdout",
     "output_type": "stream",
     "text": [
      "Elon-University-Phoenix\n"
     ]
    },
    {
     "data": {
      "text/plain": [
       "357"
      ]
     },
     "execution_count": 5,
     "metadata": {},
     "output_type": "execute_result"
    }
   ],
   "source": [
    "# Get a data frame of all of the teams in D1\n",
    "teams = pd.read_html('https://www.teamrankings.com/ncb/teams/')[0]\n",
    "\n",
    "# Make numerous adjustments to the strings in the 'Team' column\n",
    "# These adjustments will allow us to use the team names in web addresses later\n",
    "teams['Team'] = teams['Team'].apply(lambda x: x.replace(' ','-'))\n",
    "teams['Team'] = teams['Team'].apply(lambda x: x.replace(\".\",''))\n",
    "teams['Team'] = teams['Team'].apply(lambda x: x.replace(\"'\",''))\n",
    "teams['Team'] = teams['Team'].apply(lambda x: x.replace(\"&\",''))\n",
    "teams['Team'] = teams['Team'].apply(lambda x: x.replace(\"(\",''))\n",
    "teams['Team'] = teams['Team'].apply(lambda x: x.replace(\")\",''))\n",
    "teams['Team'] = teams['Team'].apply(lambda x: x.replace(\"---\",'-'))\n",
    "\n",
    "# Convert the 'Team' column to a list\n",
    "team_urls = teams['Team'].tolist()\n",
    "\n",
    "# Check a random team\n",
    "print(team_urls[85])\n",
    "\n",
    "#Check how many teams are in our list\n",
    "len(team_urls)"
   ]
  },
  {
   "cell_type": "markdown",
   "metadata": {},
   "source": [
    "### Scrape Every Teams Schedule and Save it to a Dictionary "
   ]
  },
  {
   "cell_type": "code",
   "execution_count": 6,
   "metadata": {},
   "outputs": [
    {
     "data": {
      "text/html": [
       "<div>\n",
       "<style scoped>\n",
       "    .dataframe tbody tr th:only-of-type {\n",
       "        vertical-align: middle;\n",
       "    }\n",
       "\n",
       "    .dataframe tbody tr th {\n",
       "        vertical-align: top;\n",
       "    }\n",
       "\n",
       "    .dataframe thead th {\n",
       "        text-align: right;\n",
       "    }\n",
       "</style>\n",
       "<table border=\"1\" class=\"dataframe\">\n",
       "  <thead>\n",
       "    <tr style=\"text-align: right;\">\n",
       "      <th></th>\n",
       "      <th>Date</th>\n",
       "      <th>Opponent</th>\n",
       "      <th>Opp Rank</th>\n",
       "      <th>H/A/N</th>\n",
       "      <th>Score</th>\n",
       "      <th>home</th>\n",
       "    </tr>\n",
       "  </thead>\n",
       "  <tbody>\n",
       "    <tr>\n",
       "      <th>0</th>\n",
       "      <td>11/25</td>\n",
       "      <td>at Xavier</td>\n",
       "      <td>55</td>\n",
       "      <td>Away</td>\n",
       "      <td>L 49-101</td>\n",
       "      <td>Oakland-Golden-Grizzlies</td>\n",
       "    </tr>\n",
       "    <tr>\n",
       "      <th>1</th>\n",
       "      <td>11/26</td>\n",
       "      <td>vs Toledo</td>\n",
       "      <td>83</td>\n",
       "      <td>Neutral</td>\n",
       "      <td>L 53-80</td>\n",
       "      <td>Oakland-Golden-Grizzlies</td>\n",
       "    </tr>\n",
       "    <tr>\n",
       "      <th>2</th>\n",
       "      <td>11/27</td>\n",
       "      <td>vs Bradley</td>\n",
       "      <td>137</td>\n",
       "      <td>Neutral</td>\n",
       "      <td>L 60-74</td>\n",
       "      <td>Oakland-Golden-Grizzlies</td>\n",
       "    </tr>\n",
       "    <tr>\n",
       "      <th>3</th>\n",
       "      <td>11/29</td>\n",
       "      <td>at Michigan</td>\n",
       "      <td>5</td>\n",
       "      <td>Away</td>\n",
       "      <td>L 71-81</td>\n",
       "      <td>Oakland-Golden-Grizzlies</td>\n",
       "    </tr>\n",
       "    <tr>\n",
       "      <th>4</th>\n",
       "      <td>12/01</td>\n",
       "      <td>at Purdue</td>\n",
       "      <td>26</td>\n",
       "      <td>Away</td>\n",
       "      <td>L 50-93</td>\n",
       "      <td>Oakland-Golden-Grizzlies</td>\n",
       "    </tr>\n",
       "  </tbody>\n",
       "</table>\n",
       "</div>"
      ],
      "text/plain": [
       "    Date     Opponent  Opp Rank    H/A/N     Score                      home\n",
       "0  11/25    at Xavier        55     Away  L 49-101  Oakland-Golden-Grizzlies\n",
       "1  11/26    vs Toledo        83  Neutral   L 53-80  Oakland-Golden-Grizzlies\n",
       "2  11/27   vs Bradley       137  Neutral   L 60-74  Oakland-Golden-Grizzlies\n",
       "3  11/29  at Michigan         5     Away   L 71-81  Oakland-Golden-Grizzlies\n",
       "4  12/01    at Purdue        26     Away   L 50-93  Oakland-Golden-Grizzlies"
      ]
     },
     "execution_count": 6,
     "metadata": {},
     "output_type": "execute_result"
    }
   ],
   "source": [
    "#Create a blank dictionary\n",
    "team_dict = {}\n",
    "\n",
    "# Loop through our list of teams and scrape the necessary data\n",
    "# Also add a column with the team name\n",
    "for name in team_urls:\n",
    "    team_dict[\"{}\".format(name)] = pd.read_html('https://www.teamrankings.com/ncaa-basketball/team/{}/game-log'.format(name))[0]\n",
    "    team_dict.get(\"{}\".format(name))['home'] = name\n",
    "    \n",
    "# Check a team\n",
    "team_dict.get('Oakland-Golden-Grizzlies').head()"
   ]
  },
  {
   "cell_type": "markdown",
   "metadata": {},
   "source": [
    "### Create one Data Frame with all Team Scoring Data"
   ]
  },
  {
   "cell_type": "code",
   "execution_count": 7,
   "metadata": {},
   "outputs": [
    {
     "data": {
      "text/html": [
       "<div>\n",
       "<style scoped>\n",
       "    .dataframe tbody tr th:only-of-type {\n",
       "        vertical-align: middle;\n",
       "    }\n",
       "\n",
       "    .dataframe tbody tr th {\n",
       "        vertical-align: top;\n",
       "    }\n",
       "\n",
       "    .dataframe thead th {\n",
       "        text-align: right;\n",
       "    }\n",
       "</style>\n",
       "<table border=\"1\" class=\"dataframe\">\n",
       "  <thead>\n",
       "    <tr style=\"text-align: right;\">\n",
       "      <th></th>\n",
       "      <th>Opponent</th>\n",
       "      <th>home</th>\n",
       "      <th>points_scored</th>\n",
       "    </tr>\n",
       "  </thead>\n",
       "  <tbody>\n",
       "    <tr>\n",
       "      <th>0</th>\n",
       "      <td>E Tenn St</td>\n",
       "      <td>Abilene-Christian-Wildcats</td>\n",
       "      <td>70</td>\n",
       "    </tr>\n",
       "    <tr>\n",
       "      <th>1</th>\n",
       "      <td>Austin Peay</td>\n",
       "      <td>Abilene-Christian-Wildcats</td>\n",
       "      <td>80</td>\n",
       "    </tr>\n",
       "    <tr>\n",
       "      <th>2</th>\n",
       "      <td>Neb Omaha</td>\n",
       "      <td>Abilene-Christian-Wildcats</td>\n",
       "      <td>70</td>\n",
       "    </tr>\n",
       "    <tr>\n",
       "      <th>3</th>\n",
       "      <td>Howard Payne</td>\n",
       "      <td>Abilene-Christian-Wildcats</td>\n",
       "      <td>81</td>\n",
       "    </tr>\n",
       "    <tr>\n",
       "      <th>4</th>\n",
       "      <td>Tarleton State</td>\n",
       "      <td>Abilene-Christian-Wildcats</td>\n",
       "      <td>69</td>\n",
       "    </tr>\n",
       "  </tbody>\n",
       "</table>\n",
       "</div>"
      ],
      "text/plain": [
       "         Opponent                        home points_scored\n",
       "0       E Tenn St  Abilene-Christian-Wildcats            70\n",
       "1     Austin Peay  Abilene-Christian-Wildcats            80\n",
       "2       Neb Omaha  Abilene-Christian-Wildcats            70\n",
       "3    Howard Payne  Abilene-Christian-Wildcats            81\n",
       "4  Tarleton State  Abilene-Christian-Wildcats            69"
      ]
     },
     "execution_count": 7,
     "metadata": {},
     "output_type": "execute_result"
    }
   ],
   "source": [
    "# Create a blank df\n",
    "results = pd.DataFrame(columns=['Date','Opponent','Opp Rank','H/A/N','Score','Home'])\n",
    "\n",
    "# Append each teams data to the data frame\n",
    "for name in team_urls:\n",
    "    results = results.append(team_dict.get('{}'.format(name)),ignore_index=False,sort=False)\n",
    "\n",
    "# Add a 'points_Scored' column\n",
    "results['points_scored'] = results['Score'].apply(lambda x: x.split(' ')[1].split('-')[0])\n",
    "\n",
    "# Drop unneccesary columns\n",
    "results.drop(['Date','Opp Rank','H/A/N','Score','Home'],inplace=True,axis=1)\n",
    "\n",
    "# Remove the \"at\" from the 'Opponent' column\n",
    "results['Opponent'] = results['Opponent'].apply(lambda x: x.replace('at ',''))\n",
    "results['Opponent'] = results['Opponent'].apply(lambda x: x.replace('vs ',''))\n",
    "\n",
    "# Check the resulting data frame\n",
    "results.head()"
   ]
  },
  {
   "cell_type": "markdown",
   "metadata": {},
   "source": [
    "### Convert the Team Names  \n",
    "We have a small problem. The team name formats are different depending on where we scrape them from. To overcome this, we need to load a conversion document."
   ]
  },
  {
   "cell_type": "code",
   "execution_count": 8,
   "metadata": {},
   "outputs": [
    {
     "data": {
      "text/html": [
       "<div>\n",
       "<style scoped>\n",
       "    .dataframe tbody tr th:only-of-type {\n",
       "        vertical-align: middle;\n",
       "    }\n",
       "\n",
       "    .dataframe tbody tr th {\n",
       "        vertical-align: top;\n",
       "    }\n",
       "\n",
       "    .dataframe thead th {\n",
       "        text-align: right;\n",
       "    }\n",
       "</style>\n",
       "<table border=\"1\" class=\"dataframe\">\n",
       "  <thead>\n",
       "    <tr style=\"text-align: right;\">\n",
       "      <th></th>\n",
       "      <th>team_short</th>\n",
       "      <th>team_long</th>\n",
       "    </tr>\n",
       "  </thead>\n",
       "  <tbody>\n",
       "    <tr>\n",
       "      <th>0</th>\n",
       "      <td>Abl Christian</td>\n",
       "      <td>Abilene-Christian-Wildcats</td>\n",
       "    </tr>\n",
       "    <tr>\n",
       "      <th>1</th>\n",
       "      <td>Air Force</td>\n",
       "      <td>Air-Force-Falcons</td>\n",
       "    </tr>\n",
       "    <tr>\n",
       "      <th>2</th>\n",
       "      <td>Akron</td>\n",
       "      <td>Akron-Zips</td>\n",
       "    </tr>\n",
       "    <tr>\n",
       "      <th>3</th>\n",
       "      <td>Alab A&amp;M</td>\n",
       "      <td>Alabama-AM-Bulldogs</td>\n",
       "    </tr>\n",
       "    <tr>\n",
       "      <th>4</th>\n",
       "      <td>Alabama</td>\n",
       "      <td>Alabama-Crimson-Tide</td>\n",
       "    </tr>\n",
       "  </tbody>\n",
       "</table>\n",
       "</div>"
      ],
      "text/plain": [
       "      team_short                   team_long\n",
       "0  Abl Christian  Abilene-Christian-Wildcats\n",
       "1      Air Force           Air-Force-Falcons\n",
       "2          Akron                  Akron-Zips\n",
       "3       Alab A&M         Alabama-AM-Bulldogs\n",
       "4        Alabama        Alabama-Crimson-Tide"
      ]
     },
     "execution_count": 8,
     "metadata": {},
     "output_type": "execute_result"
    }
   ],
   "source": [
    "# Load and examine the conversion CSV\n",
    "conversion = pd.read_csv('team_name_conversion.csv')\n",
    "conversion.head()"
   ]
  },
  {
   "cell_type": "code",
   "execution_count": 9,
   "metadata": {},
   "outputs": [
    {
     "data": {
      "text/html": [
       "<div>\n",
       "<style scoped>\n",
       "    .dataframe tbody tr th:only-of-type {\n",
       "        vertical-align: middle;\n",
       "    }\n",
       "\n",
       "    .dataframe tbody tr th {\n",
       "        vertical-align: top;\n",
       "    }\n",
       "\n",
       "    .dataframe thead th {\n",
       "        text-align: right;\n",
       "    }\n",
       "</style>\n",
       "<table border=\"1\" class=\"dataframe\">\n",
       "  <thead>\n",
       "    <tr style=\"text-align: right;\">\n",
       "      <th></th>\n",
       "      <th>Opponent</th>\n",
       "      <th>home</th>\n",
       "      <th>points_scored</th>\n",
       "      <th>opp</th>\n",
       "    </tr>\n",
       "  </thead>\n",
       "  <tbody>\n",
       "    <tr>\n",
       "      <th>0</th>\n",
       "      <td>E Tenn St</td>\n",
       "      <td>Abilene-Christian-Wildcats</td>\n",
       "      <td>70</td>\n",
       "      <td>East-Tennessee-St-Buccaneers</td>\n",
       "    </tr>\n",
       "    <tr>\n",
       "      <th>1</th>\n",
       "      <td>Austin Peay</td>\n",
       "      <td>Abilene-Christian-Wildcats</td>\n",
       "      <td>80</td>\n",
       "      <td>Austin-Peay-Governors</td>\n",
       "    </tr>\n",
       "    <tr>\n",
       "      <th>2</th>\n",
       "      <td>Neb Omaha</td>\n",
       "      <td>Abilene-Christian-Wildcats</td>\n",
       "      <td>70</td>\n",
       "      <td>Nebraska-Omaha-Mavericks</td>\n",
       "    </tr>\n",
       "    <tr>\n",
       "      <th>3</th>\n",
       "      <td>Howard Payne</td>\n",
       "      <td>Abilene-Christian-Wildcats</td>\n",
       "      <td>81</td>\n",
       "      <td>None</td>\n",
       "    </tr>\n",
       "    <tr>\n",
       "      <th>4</th>\n",
       "      <td>Tarleton State</td>\n",
       "      <td>Abilene-Christian-Wildcats</td>\n",
       "      <td>69</td>\n",
       "      <td>Tarleton-State-Texans</td>\n",
       "    </tr>\n",
       "  </tbody>\n",
       "</table>\n",
       "</div>"
      ],
      "text/plain": [
       "         Opponent                        home points_scored  \\\n",
       "0       E Tenn St  Abilene-Christian-Wildcats            70   \n",
       "1     Austin Peay  Abilene-Christian-Wildcats            80   \n",
       "2       Neb Omaha  Abilene-Christian-Wildcats            70   \n",
       "3    Howard Payne  Abilene-Christian-Wildcats            81   \n",
       "4  Tarleton State  Abilene-Christian-Wildcats            69   \n",
       "\n",
       "                            opp  \n",
       "0  East-Tennessee-St-Buccaneers  \n",
       "1         Austin-Peay-Governors  \n",
       "2      Nebraska-Omaha-Mavericks  \n",
       "3                          None  \n",
       "4         Tarleton-State-Texans  "
      ]
     },
     "execution_count": 9,
     "metadata": {},
     "output_type": "execute_result"
    }
   ],
   "source": [
    "# Make a dictionary pairing the names with eachother\n",
    "convert_dict = pd.Series(conversion['team_long'].values,index=conversion['team_short']).to_dict()\n",
    "\n",
    "# Create a function to return the proper name for a team and then make a new column using that function\n",
    "def convert_name(bad_name):\n",
    "  return convert_dict.get('{}'.format(bad_name))\n",
    "\n",
    "# Apply the function\n",
    "results['opp'] = results['Opponent'].apply(convert_name)\n",
    "\n",
    "# Check the results\n",
    "results.head()"
   ]
  },
  {
   "cell_type": "code",
   "execution_count": 10,
   "metadata": {},
   "outputs": [],
   "source": [
    "# There will be some incompletes in this conversion due to the occurence of non-D1 teams\n",
    "# We will drop these games by dropping any rows containing \"None\" from the results\n",
    "results.dropna(axis=0,how='any',inplace=True)"
   ]
  },
  {
   "cell_type": "code",
   "execution_count": 11,
   "metadata": {},
   "outputs": [],
   "source": [
    "# General Cleanup\n",
    "\n",
    "# Drop \"Opponent\" column and rearrange the others\n",
    "results.drop('Opponent',axis=1)\n",
    "results = results[['home','opp','points_scored']]"
   ]
  },
  {
   "cell_type": "markdown",
   "metadata": {},
   "source": [
    "### Scrape the Defensive Metrics of Every Team  \n",
    "Now that we have the scoring data, we need to go out and get the defensive data for each team."
   ]
  },
  {
   "cell_type": "code",
   "execution_count": 12,
   "metadata": {},
   "outputs": [],
   "source": [
    "# Get the required data\n",
    "def_eff = pd.read_html('https://www.teamrankings.com/ncaa-basketball/stat/defensive-efficiency')[0]\n",
    "opp_fp = pd.read_html('https://www.teamrankings.com/ncaa-basketball/stat/opponent-floor-percentage')[0]\n",
    "opp_efg = pd.read_html('https://www.teamrankings.com/ncaa-basketball/stat/opponent-effective-field-goal-pct')[0]\n",
    "opp_ts = pd.read_html('https://www.teamrankings.com/ncaa-basketball/stat/opponent-true-shooting-percentage')[0]"
   ]
  },
  {
   "cell_type": "code",
   "execution_count": 13,
   "metadata": {},
   "outputs": [],
   "source": [
    "# Remove and rename columns in each data frame\n",
    "\n",
    "# def_eff\n",
    "def_eff = def_eff[['Team','2019']]\n",
    "def_eff.rename(columns={'2019': 'def_eff'},inplace=True)\n",
    "\n",
    "#opp_fp\n",
    "opp_fp = opp_fp[['Team','2019']]\n",
    "opp_fp.rename(columns={'2019': 'opp_fp'},inplace=True)\n",
    "\n",
    "#opp_efg\n",
    "opp_efg = opp_efg[['Team','2019']]\n",
    "opp_efg.rename(columns={'2019': 'opp_efg'},inplace=True)\n",
    "\n",
    "#opp_ts\n",
    "opp_ts = opp_ts[['Team','2019']]\n",
    "opp_ts.rename(columns={'2019': 'opp_ts'},inplace=True)"
   ]
  },
  {
   "cell_type": "code",
   "execution_count": 14,
   "metadata": {},
   "outputs": [
    {
     "data": {
      "text/html": [
       "<div>\n",
       "<style scoped>\n",
       "    .dataframe tbody tr th:only-of-type {\n",
       "        vertical-align: middle;\n",
       "    }\n",
       "\n",
       "    .dataframe tbody tr th {\n",
       "        vertical-align: top;\n",
       "    }\n",
       "\n",
       "    .dataframe thead th {\n",
       "        text-align: right;\n",
       "    }\n",
       "</style>\n",
       "<table border=\"1\" class=\"dataframe\">\n",
       "  <thead>\n",
       "    <tr style=\"text-align: right;\">\n",
       "      <th></th>\n",
       "      <th>Team</th>\n",
       "      <th>def_eff</th>\n",
       "      <th>opp_fp</th>\n",
       "      <th>opp_efg</th>\n",
       "      <th>opp_ts</th>\n",
       "    </tr>\n",
       "  </thead>\n",
       "  <tbody>\n",
       "    <tr>\n",
       "      <th>0</th>\n",
       "      <td>Abilene-Christian-Wildcats</td>\n",
       "      <td>0.941</td>\n",
       "      <td>0.461</td>\n",
       "      <td>0.504</td>\n",
       "      <td>1.109</td>\n",
       "    </tr>\n",
       "    <tr>\n",
       "      <th>1</th>\n",
       "      <td>Memphis-Tigers</td>\n",
       "      <td>0.860</td>\n",
       "      <td>0.413</td>\n",
       "      <td>0.412</td>\n",
       "      <td>0.912</td>\n",
       "    </tr>\n",
       "    <tr>\n",
       "      <th>2</th>\n",
       "      <td>Jackson-State-Tigers</td>\n",
       "      <td>0.949</td>\n",
       "      <td>0.460</td>\n",
       "      <td>0.486</td>\n",
       "      <td>1.065</td>\n",
       "    </tr>\n",
       "    <tr>\n",
       "      <th>3</th>\n",
       "      <td>Loyola-Chicago-Ramblers</td>\n",
       "      <td>0.932</td>\n",
       "      <td>0.421</td>\n",
       "      <td>0.522</td>\n",
       "      <td>1.081</td>\n",
       "    </tr>\n",
       "    <tr>\n",
       "      <th>4</th>\n",
       "      <td>UAB-Blazers</td>\n",
       "      <td>0.965</td>\n",
       "      <td>0.442</td>\n",
       "      <td>0.493</td>\n",
       "      <td>1.043</td>\n",
       "    </tr>\n",
       "  </tbody>\n",
       "</table>\n",
       "</div>"
      ],
      "text/plain": [
       "                         Team def_eff  opp_fp  opp_efg  opp_ts\n",
       "0  Abilene-Christian-Wildcats   0.941   0.461    0.504   1.109\n",
       "1              Memphis-Tigers   0.860   0.413    0.412   0.912\n",
       "2        Jackson-State-Tigers   0.949   0.460    0.486   1.065\n",
       "3     Loyola-Chicago-Ramblers   0.932   0.421    0.522   1.081\n",
       "4                 UAB-Blazers   0.965   0.442    0.493   1.043"
      ]
     },
     "execution_count": 14,
     "metadata": {},
     "output_type": "execute_result"
    }
   ],
   "source": [
    "# Combine all metric dfs\n",
    "metrics = def_eff.join(opp_fp.set_index('Team'),on='Team')\n",
    "metrics = metrics.join(opp_efg.set_index('Team'),on='Team')\n",
    "metrics = metrics.join(opp_ts.set_index('Team'),on='Team')\n",
    "\n",
    "# Convert the team names\n",
    "metrics['Team'] = metrics['Team'].apply(convert_name)\n",
    "\n",
    "#Create a function to convert from percent to float and apply it\n",
    "\n",
    "# Create the function\n",
    "def p2f(percent):\n",
    "    if percent == '--':\n",
    "        return 0\n",
    "    else:\n",
    "        return float(percent.strip('%'))/100\n",
    "\n",
    "# Apply it to the columns\n",
    "metrics['opp_fp'] = metrics['opp_fp'].apply(p2f)\n",
    "metrics['opp_efg'] = metrics['opp_efg'].apply(p2f)\n",
    "metrics['opp_ts'] = metrics['opp_ts'].apply(p2f)\n",
    "\n",
    "#Check the df\n",
    "metrics.head()"
   ]
  },
  {
   "cell_type": "markdown",
   "metadata": {},
   "source": [
    "### Combine the Scoring Data with the Defensive Metrics Data"
   ]
  },
  {
   "cell_type": "code",
   "execution_count": 15,
   "metadata": {},
   "outputs": [
    {
     "data": {
      "text/html": [
       "<div>\n",
       "<style scoped>\n",
       "    .dataframe tbody tr th:only-of-type {\n",
       "        vertical-align: middle;\n",
       "    }\n",
       "\n",
       "    .dataframe tbody tr th {\n",
       "        vertical-align: top;\n",
       "    }\n",
       "\n",
       "    .dataframe thead th {\n",
       "        text-align: right;\n",
       "    }\n",
       "</style>\n",
       "<table border=\"1\" class=\"dataframe\">\n",
       "  <thead>\n",
       "    <tr style=\"text-align: right;\">\n",
       "      <th></th>\n",
       "      <th>opp</th>\n",
       "      <th>points_scored</th>\n",
       "      <th>def_eff</th>\n",
       "      <th>opp_fp</th>\n",
       "      <th>opp_efg</th>\n",
       "      <th>opp_ts</th>\n",
       "    </tr>\n",
       "    <tr>\n",
       "      <th>home</th>\n",
       "      <th></th>\n",
       "      <th></th>\n",
       "      <th></th>\n",
       "      <th></th>\n",
       "      <th></th>\n",
       "      <th></th>\n",
       "    </tr>\n",
       "  </thead>\n",
       "  <tbody>\n",
       "    <tr>\n",
       "      <th>Abilene-Christian-Wildcats</th>\n",
       "      <td>East-Tennessee-St-Buccaneers</td>\n",
       "      <td>70</td>\n",
       "      <td>0.945</td>\n",
       "      <td>0.447</td>\n",
       "      <td>0.498</td>\n",
       "      <td>1.061</td>\n",
       "    </tr>\n",
       "    <tr>\n",
       "      <th>Abilene-Christian-Wildcats</th>\n",
       "      <td>Austin-Peay-Governors</td>\n",
       "      <td>80</td>\n",
       "      <td>1.014</td>\n",
       "      <td>0.479</td>\n",
       "      <td>0.531</td>\n",
       "      <td>1.119</td>\n",
       "    </tr>\n",
       "    <tr>\n",
       "      <th>Abilene-Christian-Wildcats</th>\n",
       "      <td>Nebraska-Omaha-Mavericks</td>\n",
       "      <td>70</td>\n",
       "      <td>1.061</td>\n",
       "      <td>0.489</td>\n",
       "      <td>0.526</td>\n",
       "      <td>1.112</td>\n",
       "    </tr>\n",
       "    <tr>\n",
       "      <th>Abilene-Christian-Wildcats</th>\n",
       "      <td>Texas-Tech-Red-Raiders</td>\n",
       "      <td>44</td>\n",
       "      <td>0.897</td>\n",
       "      <td>0.428</td>\n",
       "      <td>0.462</td>\n",
       "      <td>1.003</td>\n",
       "    </tr>\n",
       "    <tr>\n",
       "      <th>Abilene-Christian-Wildcats</th>\n",
       "      <td>Arkansas-Razorbacks</td>\n",
       "      <td>72</td>\n",
       "      <td>0.942</td>\n",
       "      <td>0.462</td>\n",
       "      <td>0.473</td>\n",
       "      <td>1.032</td>\n",
       "    </tr>\n",
       "  </tbody>\n",
       "</table>\n",
       "</div>"
      ],
      "text/plain": [
       "                                                     opp points_scored  \\\n",
       "home                                                                     \n",
       "Abilene-Christian-Wildcats  East-Tennessee-St-Buccaneers            70   \n",
       "Abilene-Christian-Wildcats         Austin-Peay-Governors            80   \n",
       "Abilene-Christian-Wildcats      Nebraska-Omaha-Mavericks            70   \n",
       "Abilene-Christian-Wildcats        Texas-Tech-Red-Raiders            44   \n",
       "Abilene-Christian-Wildcats           Arkansas-Razorbacks            72   \n",
       "\n",
       "                           def_eff  opp_fp  opp_efg  opp_ts  \n",
       "home                                                         \n",
       "Abilene-Christian-Wildcats   0.945   0.447    0.498   1.061  \n",
       "Abilene-Christian-Wildcats   1.014   0.479    0.531   1.119  \n",
       "Abilene-Christian-Wildcats   1.061   0.489    0.526   1.112  \n",
       "Abilene-Christian-Wildcats   0.897   0.428    0.462   1.003  \n",
       "Abilene-Christian-Wildcats   0.942   0.462    0.473   1.032  "
      ]
     },
     "execution_count": 15,
     "metadata": {},
     "output_type": "execute_result"
    }
   ],
   "source": [
    "# Combine the results df with the metrics data frame\n",
    "model_df = results.join(metrics.set_index('Team'),on='opp')\n",
    "model_df2 = model_df.set_index('home')\n",
    "\n",
    "# Do some cleanup\n",
    "model_df2 = model_df2[(model_df2['def_eff'] != '--') & \n",
    "          (model_df2['opp_fp'] != '--') &\n",
    "          (model_df2['opp_efg'] != '--') &\n",
    "          (model_df2['opp_ts'] != '--')]\n",
    "\n",
    "# Check the final result\n",
    "model_df2.head()"
   ]
  },
  {
   "cell_type": "markdown",
   "metadata": {},
   "source": [
    "### Modeling using SKLearn"
   ]
  },
  {
   "cell_type": "code",
   "execution_count": 16,
   "metadata": {},
   "outputs": [],
   "source": [
    "# Import linear_model\n",
    "from sklearn import linear_model"
   ]
  },
  {
   "cell_type": "code",
   "execution_count": 17,
   "metadata": {},
   "outputs": [],
   "source": [
    "# Create a linear model for each team and store the results in a dictionary\n",
    "\n",
    "# Get unique teams\n",
    "myset = set(model_df2.index.values.tolist())\n",
    "mynewlist = list(myset)\n",
    "team_urls = mynewlist\n",
    "\n",
    "#Create a blank dictionary\n",
    "model_dict = {}\n",
    "\n",
    "#Loop through the list and create a model for each team\n",
    "for team in team_urls:\n",
    "    \n",
    "    # get a df for just that team\n",
    "    team_model = model_df2.loc['{}'.format(team)]\n",
    "\n",
    "    #create a df of predictors\n",
    "    lm_predictors = team_model[['opp_ts','def_eff','opp_fp','opp_efg']]\n",
    "    \n",
    "    #create a df for target\n",
    "    lm_target = team_model[['points_scored']]\n",
    "    \n",
    "    #define X and y\n",
    "    X = lm_predictors\n",
    "    y = lm_target\n",
    "    \n",
    "    #fit the model\n",
    "    lm = linear_model.LinearRegression()\n",
    "    model = lm.fit(X,y)\n",
    "    \n",
    "    #make predictions\n",
    "    predictions = lm.predict(X)\n",
    "    \n",
    "    #store everything in in dictionary\n",
    "    model_dict['{}_int'.format(team)] = lm.intercept_\n",
    "    model_dict['{}_coef'.format(team)] = lm.coef_\n",
    "    model_dict['{}_score'.format(team)] = lm.score(X,y)"
   ]
  },
  {
   "cell_type": "code",
   "execution_count": 18,
   "metadata": {},
   "outputs": [],
   "source": [
    "# Create a function that will produce a game prediction\n",
    "def predict_game(team_a,team_b):\n",
    "  \n",
    "    #Set up variables for team A\n",
    "    a_int = model_dict['{}_int'.format(team_a)][0].astype(float)\n",
    "    a_coef_de = model_dict['{}_coef'.format(team_a)][0][1].astype(float)\n",
    "    a_coef_fp = model_dict['{}_coef'.format(team_a)][0][2].astype(float)\n",
    "    a_coef_efg = model_dict['{}_coef'.format(team_a)][0][3].astype(float)\n",
    "    a_coef_ts = model_dict['{}_coef'.format(team_a)][0][0].astype(float)\n",
    "    a_de = metrics.set_index('Team').loc['{}'.format(team_a)][0]\n",
    "    a_de = pd.to_numeric(a_de)\n",
    "    a_fp = metrics.set_index('Team').loc['{}'.format(team_a)][1].astype(float)\n",
    "    a_efg = metrics.set_index('Team').loc['{}'.format(team_a)][2].astype(float)\n",
    "    a_ts = metrics.set_index('Team').loc['{}'.format(team_a)][3].astype(float)\n",
    "    \n",
    "    #Set up variables for team B\n",
    "    b_int = model_dict['{}_int'.format(team_b)][0].astype(float)\n",
    "    b_coef_de = model_dict['{}_coef'.format(team_b)][0][1].astype(float)\n",
    "    b_coef_fp = model_dict['{}_coef'.format(team_b)][0][2].astype(float)\n",
    "    b_coef_efg = model_dict['{}_coef'.format(team_b)][0][3].astype(float)\n",
    "    b_coef_ts = model_dict['{}_coef'.format(team_b)][0][0].astype(float)\n",
    "    b_de = metrics.set_index('Team').loc['{}'.format(team_b)][0]\n",
    "    b_de = pd.to_numeric(b_de)\n",
    "    b_fp = metrics.set_index('Team').loc['{}'.format(team_b)][1].astype(float)\n",
    "    b_efg = metrics.set_index('Team').loc['{}'.format(team_b)][2].astype(float)\n",
    "    b_ts = metrics.set_index('Team').loc['{}'.format(team_b)][3].astype(float)\n",
    "    \n",
    "    #Calculate how many points A will score against B\n",
    "    \n",
    "    a_points = a_int + (a_coef_de * b_de) + (a_coef_fp * b_fp) + (a_coef_efg * b_efg) + (a_coef_ts * b_ts)\n",
    "    b_points = b_int + (b_coef_de * a_de) + (b_coef_fp * a_fp) + (b_coef_efg * a_efg) + (b_coef_ts * a_ts)\n",
    "    \n",
    "    \n",
    "    #Print out the results\n",
    "    print('{}: {}'.format(team_a,a_points))\n",
    "    print('{}: {}'.format(team_b,b_points))"
   ]
  },
  {
   "cell_type": "markdown",
   "metadata": {},
   "source": [
    "### Use the Function"
   ]
  },
  {
   "cell_type": "code",
   "execution_count": 19,
   "metadata": {},
   "outputs": [
    {
     "name": "stdout",
     "output_type": "stream",
     "text": [
      "Oakland-Golden-Grizzlies: 47.271345178843234\n",
      "Virginia-Cavaliers: 73.36373485315545\n"
     ]
    }
   ],
   "source": [
    "predict_game('Oakland-Golden-Grizzlies','Virginia-Cavaliers')"
   ]
  },
  {
   "cell_type": "markdown",
   "metadata": {},
   "source": [
    "All done! We can now use our function to produce a predicted outcome between any two D1 NCAA basketball teams"
   ]
  }
 ],
 "metadata": {
  "kernelspec": {
   "display_name": "Python 3",
   "language": "python",
   "name": "python3"
  },
  "language_info": {
   "codemirror_mode": {
    "name": "ipython",
    "version": 3
   },
   "file_extension": ".py",
   "mimetype": "text/x-python",
   "name": "python",
   "nbconvert_exporter": "python",
   "pygments_lexer": "ipython3",
   "version": "3.8.3"
  }
 },
 "nbformat": 4,
 "nbformat_minor": 4
}
